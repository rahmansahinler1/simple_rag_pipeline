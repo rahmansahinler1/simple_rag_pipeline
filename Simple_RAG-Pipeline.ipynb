{
 "cells": [
  {
   "cell_type": "markdown",
   "id": "97a2d9aa-1827-4bdc-b04c-f7d57686e6a2",
   "metadata": {},
   "source": [
    "# RAG Pipeline\n",
    "\n",
    "The AI RAG Pipeline is a powerful tool for building and deploying AI models. It provides a streamlined workflow for data preprocessing, model training, and model deployment, making it easier to develop and deploy AI solutions.\n",
    "\n",
    "- In this work, a RAG Pipeline will be built to make interactions with pdf files.\n",
    "- For model in this work OpenAI GPT 3.5 and a local LLAMA3:8B model will be used.\n"
   ]
  },
  {
   "cell_type": "code",
   "execution_count": 1,
   "id": "56a57fe0",
   "metadata": {},
   "outputs": [],
   "source": [
    "# Imports\n",
    "import os\n",
    "from dotenv import load_dotenv\n",
    "from operator import itemgetter\n",
    "\n",
    "from langchain_openai.chat_models import ChatOpenAI\n",
    "from langchain_openai.embeddings import OpenAIEmbeddings\n",
    "from langchain_community.llms import Ollama\n",
    "from langchain_community.embeddings import OllamaEmbeddings\n",
    "from langchain_community.document_loaders import PyPDFLoader\n",
    "from langchain_community.vectorstores import DocArrayInMemorySearch\n",
    "from langchain_core.output_parsers import StrOutputParser\n",
    "from langchain.prompts import ChatPromptTemplate"
   ]
  },
  {
   "cell_type": "markdown",
   "id": "a641a79a",
   "metadata": {},
   "source": [
    "## Setting Up the OpenAI Model\n",
    "\n",
    "To set up the OpenAI model, you need to instantiate the `ChatOpenAI` class with the OpenAI API key and the desired model name."
   ]
  },
  {
   "cell_type": "code",
   "execution_count": 3,
   "id": "41117a81",
   "metadata": {},
   "outputs": [],
   "source": [
    "# Load environment variables\n",
    "load_dotenv()\n",
    "OPENAI_API_KEY = os.getenv(\"OPENAI_API_KEY\")"
   ]
  },
  {
   "cell_type": "code",
   "execution_count": 21,
   "id": "0ea771f7",
   "metadata": {},
   "outputs": [
    {
     "data": {
      "text/plain": [
       "AIMessage(content=\"Yes, I'm here. How can I help you?\", response_metadata={'token_usage': {'completion_tokens': 12, 'prompt_tokens': 12, 'total_tokens': 24}, 'model_name': 'gpt-3.5-turbo-0125', 'system_fingerprint': None, 'finish_reason': 'stop', 'logprobs': None}, id='run-859d139c-98eb-4841-9c4c-ae88e5fb7607-0', usage_metadata={'input_tokens': 12, 'output_tokens': 12, 'total_tokens': 24})"
      ]
     },
     "execution_count": 21,
     "metadata": {},
     "output_type": "execute_result"
    }
   ],
   "source": [
    "# Setup the model\n",
    "openai_model = ChatOpenAI(openai_api_key=OPENAI_API_KEY, model_name=\"gpt-3.5-turbo-0125\")\n",
    "\n",
    "# Setup the embeddings\n",
    "openai_embeddings = OpenAIEmbeddings(openai_api_key=OPENAI_API_KEY, model=\"text-embedding-ada-002\")\n",
    "\n",
    "# Test the model\n",
    "openai_model.invoke(\"Hey are you there?\")"
   ]
  },
  {
   "cell_type": "markdown",
   "id": "e35989f3",
   "metadata": {},
   "source": [
    "## Setting up the Local LLAMA Model\n",
    "\n",
    "To set up the LLAMA model, you need to instantiate the `Ollama` class with the desired model name."
   ]
  },
  {
   "cell_type": "code",
   "execution_count": 5,
   "id": "027c36d0",
   "metadata": {},
   "outputs": [
    {
     "data": {
      "text/plain": [
       "\"<h1>Hey! I'm here and ready to help! What's up?</h1>\""
      ]
     },
     "execution_count": 5,
     "metadata": {},
     "output_type": "execute_result"
    }
   ],
   "source": [
    "# Setup the model\n",
    "llama_model = Ollama(model=\"llama2:7b\")\n",
    "\n",
    "# Setup the embeddings\n",
    "llama_embeddings = OllamaEmbeddings(model=\"llama2:7b\")\n",
    "\n",
    "# Test the model\n",
    "llama_model.invoke(\"Hey are you there?\")"
   ]
  },
  {
   "cell_type": "markdown",
   "id": "08626f87",
   "metadata": {},
   "source": [
    "## Parser\n",
    "\n",
    "Direct response is not usable for interactions.Content needs to be extracted from the AIMesagge. Langchain parser can help to achieve that"
   ]
  },
  {
   "cell_type": "code",
   "execution_count": 6,
   "id": "2336a75e",
   "metadata": {},
   "outputs": [],
   "source": [
    "parser = StrOutputParser()"
   ]
  },
  {
   "cell_type": "markdown",
   "id": "6a934ae1",
   "metadata": {},
   "source": [
    "## Prompt Template\n",
    "\n",
    "A langchain \"prompt template\" is a predefined structure or format that provides guidance for constructing prompts in langchain workflows. It helps users organize and structure their input to generate desired outputs."
   ]
  },
  {
   "cell_type": "code",
   "execution_count": 7,
   "id": "6f55239d",
   "metadata": {},
   "outputs": [
    {
     "data": {
      "text/plain": [
       "'Human: \\nGive a brief answer to the question below based on the given context.\\nAnswer will be just one sentence.\\nAnswer of the question will just include the information asked in the question not the whole context.\\nIf you don\\'t know the answer or don\\'t have any information for the question, answer with \"I don\\'t know\".\\n\\nContext: Rahman has reached diamond rank in League of Legends in 2015.\\n\\nQuestion: When did Rahman reach diamond rank in League of Legends?\\n'"
      ]
     },
     "execution_count": 7,
     "metadata": {},
     "output_type": "execute_result"
    }
   ],
   "source": [
    "prompt_template = \"\"\"\n",
    "Give a brief answer to the question below based on the given context.\n",
    "Answer will be just one sentence.\n",
    "Answer of the question will just include the information asked in the question not the whole context.\n",
    "If you don't know the answer or don't have any information for the question, answer with \"I don't know\".\n",
    "\n",
    "Context: {context}\n",
    "\n",
    "Question: {question}\n",
    "\"\"\"\n",
    "\n",
    "prompt = ChatPromptTemplate.from_template(prompt_template)\n",
    "prompt.format(\n",
    "    context=\"Rahman has reached diamond rank in League of Legends in 2015.\",\n",
    "    question=\"When did Rahman reach diamond rank in League of Legends?\"\n",
    "    )"
   ]
  },
  {
   "cell_type": "markdown",
   "id": "9bb8e5de",
   "metadata": {},
   "source": [
    "## Simple Testing\n",
    "\n",
    "- Let's build a simple test with prompt, model and parser.\n",
    "- A chain can be build for this task.\n",
    "- Models will generate the response according to the given prompt and the response will be parsed to just get the string output."
   ]
  },
  {
   "cell_type": "code",
   "execution_count": 8,
   "id": "3f14dd2e",
   "metadata": {},
   "outputs": [
    {
     "data": {
      "text/plain": [
       "'Rahman reached diamond rank in League of Legends in 2015.'"
      ]
     },
     "execution_count": 8,
     "metadata": {},
     "output_type": "execute_result"
    }
   ],
   "source": [
    "# Chain the prompt with the openai model and parser\n",
    "chain = prompt | openai_model | parser\n",
    "\n",
    "# Invoke the chain\n",
    "chain.invoke({\n",
    "    \"context\": \"Rahman reached diamond rank in League of Legends in 2015.\",\n",
    "    \"question\": \"When did Rahman reach diamond rank in League of Legends?\"\n",
    "})"
   ]
  },
  {
   "cell_type": "code",
   "execution_count": 9,
   "id": "d32568ce",
   "metadata": {},
   "outputs": [
    {
     "data": {
      "text/plain": [
       "'Rahman reached diamond rank in League of Legends in 2015.'"
      ]
     },
     "execution_count": 9,
     "metadata": {},
     "output_type": "execute_result"
    }
   ],
   "source": [
    "# Chain the prompt with the llama2 model and parser\n",
    "chain = prompt | llama_model | parser\n",
    "\n",
    "# Invoke the chain\n",
    "chain.invoke({\n",
    "    \"context\": \"Rahman reached diamond rank in League of Legends in 2015.\",\n",
    "    \"question\": \"When did Rahman reach diamond rank in League of Legends?\"\n",
    "})"
   ]
  },
  {
   "cell_type": "markdown",
   "id": "74318a10",
   "metadata": {},
   "source": [
    "They're both working properly. But response generation from local model takes higher amount of time compared to the openai model. That's because response generation is happenning on PC's hardware and it's depends on various reasons:\n",
    "\n",
    "- GPU availability / capacity\n",
    "- CPU capacity\n",
    "- Input length\n",
    "- Output length\n",
    "- Model size\n",
    "\n",
    "So, if we want to create responses locally & fast we need to consider these features."
   ]
  },
  {
   "cell_type": "markdown",
   "id": "1472d705",
   "metadata": {},
   "source": [
    "## Simple RAG Pipeline\n",
    "\n",
    "We're now ready for simple rag pipeline. I will use my own conference paper answer-response. To do that the following steps needs to be taken:\n",
    "\n",
    "- Importing the pdf\n",
    "- Creating embeddings & vector database\n",
    "- Adding input data to the chain\n",
    "- Triggering the chain and asking questions related to input file"
   ]
  },
  {
   "cell_type": "code",
   "execution_count": 11,
   "id": "d491c02a",
   "metadata": {},
   "outputs": [
    {
     "data": {
      "text/plain": [
       "[Document(page_content=\"Data -Driven  Model ling of a Plug -In Hybrid Electric Vehicle  \\n \\nAdnan Furkan Y ildiz1, Rahman Sahinler1, Cansu Ozturk1 \\n \\n1AVL Research and Engineering  Turkey , Istanbul, Turkey  \\nfurkan. yildiz@avl.com , rahman .sahinler@avl.com , cansu.ozturk@a vl.com  \\n \\nAbstract  \\n  \\nGrowing  need for environmentally friendly  transportation \\nhas led to the rise of hybrid electric vehicles (HEVs).  Plug -in \\nhybrid electric vehicles (PHEVs ), whic h are a sub -class of \\nHEVs , provide lower fuel consumption and exhaust gas \\nemissions thanks to their e xternal charging and higher range \\nof electric drive capabilities . Therefore,  they are  increasingly \\npopular in the automotive i ndustry  nowada ys. To make a  \\nrapid assessment of th e cont rol or the ene rgy management \\nstrate gies applied to a PHEV , the generation of a  vehicle \\nmodel has a crucial  role.  This paper propose s a rapid -\\nresponsive, data -driven, kinematic, and map -based PHEV  \\nmodel  in a Python environment . Approxima tely 2000 km of \\nreal-world vehicle measurements w ere used  instead  of \\ndriving cycles , which enables a wide range of driving \\nmaneuvers to be used  for modeling  and testing purposes . \\nResults  of the v ehicle model were compared in two \\ncategories to express the charge -sustaining  (CS) and charge -\\ndepleting  (CD) behaviors of the mo del. \\n \\n1. Introduction  \\n \\nHybrid electric vehicles  (HEVs ) consist ing of two energy \\nconverte rs, generall y an internal co mbustion engine (ICE) as a \\nprim ary energ y converter and one or mo re electric motor  (EM)  \\nas seconda ry energy co nverters , are nowada ys one of the m ost \\npromising  solution s for not only environmental  pollution but \\nalso fu el eco nomy [1]. Compared to HEVs, plug-in hybrid \\nelectric veh icles (PHEVs) provide lower fuel co nsumptio n and \\nexhaust gas emission  thanks to their external cha rging and \\nhigher ran ge of electric driv e capabili ties [2]. Although there are \\nseveral powertrain topolo gies of PHEVs  in the industry , parallel \\ntype-2 (P2) architecture  is one of  the most used  architectures \\ndue to its increased energy recuperation potential and the \\navailabilit y of additional hybrid cont rol functions . Therefore, a \\nP2-type PHEV is used for modeling  purpo ses in our study . \\nP2 ar chitecture  permits separate or combined  traction from \\nICE and EM based on the driver's  request . Thus,  torque \\ndistribution between ICE and E M is a substa ntial topic and is \\nmostly studied  under  the tit le of  energy m anagement . Energy \\nmanagement strategies in the literature are mainly classified into \\ntwo categories: rule-based  and optimization -based methods . \\nRule -based approaches are class ified into two sub -categories: \\ndeterministic and fuzzy. Optimization -based methods, on t he \\nother hand, are divided into global, real -time, and local \\nstrategies  [3]. Global optimizati on-based methods such as \\ndynamic programming (DP) or the Pontryagin minimi zation \\nprinciple (PMP)  cannot be used in real -time or fa st-respon se \\nrequired applications due to their computational comple xity. \\nHowever, rule -based  methods as well as  real-time and local \\noptimiz ation-based methods namely , equivalent consumption minimizati on strategy (ECMS) , adaptive -ECMS (A-ECMS) , \\nrobust control (RC) , and artificial intelligen ce (AI) based  energ y \\nmanagement strateg ies are useful for real-time or fast-response \\nrequired application s [4]. \\nApart from vehicle models, energy management strateg ies \\nare a lso developed for various type s of vehi cles. For instan ce, an \\nenerg y management str ategy  is developed  for a fuel cell electric \\nvehicle us ing model -based reinforce ment lear ning with data-\\ndriven  model updates  in MATLAB  [5]. In the st udy, they us ed \\ndifferent drive cycles which are  Urba n Dynamo meter Driving \\nSchedule  (UDDS), New European Driv ing Cycle  (NEDC ), \\nSupplemental Federal Test Procedure  (SC03) , WLTC, and\", metadata={'source': '20230923_ELECO_Data-Driven-PHEV-Model.pdf', 'page': 0}),\n",
       " Document(page_content='different drive cycles which are  Urba n Dynamo meter Driving \\nSchedule  (UDDS), New European Driv ing Cycle  (NEDC ), \\nSupplemental Federal Test Procedure  (SC03) , WLTC, and \\nHWFET . 5.7%  fuel economy imp rovement is obtain ed on \\naverag e. A reinforcement learning -based  algorithm  using ECMS  \\nis propose d for a fuel cell hybrid electric vehicle (FCHEV)  [6]. \\nThe mo del is proposed in MATLAB environment and up t o \\n26% fuel consu mption imp rovement is obtained  for various \\ndrive cycles suc h as HWFET , WVUCITY , and West Virginia  \\nUniversity Suburban Cycle ( WVUSUB ). A naturalistic data -\\ndriven predictive energy management  is implemented for \\nPHEVs  [7]. Extreme learning machine is used as a short -term \\nspeed predictor i n the paper. The proposed m ethod is compared \\nwith back propagation  neural  network s and support  vector \\nmachine predictors.  Training is done  using seven  standard dri ve \\ncycles such as UDDS, HWFET , etc. \\nThere are several studies i n the literature  menti oning hybrid \\nvehicle modeling  and mostly MATLAB /Simulin k environment \\nis used as th e simul ation platform . For example , Robbio  et al. \\nperformed a hybrid electric commercial vehicle simul ation  for \\nfuel consumption and emission  evaluation  [8]. For the \\nsimulations , Advanced Vehicle Simula tor (ADVISOR) soft ware \\nwas used in the MATLAB en vironm ent. The tests  are carried \\nout with Worldwide  harmonized Light -duty Vehicle  Test Cycles  \\n(WLTC) in CD and CS modes with a success of approximate ly \\n1% dev iation . ADV ISOR software is us ed for the modeling  of a \\nSedan vehicle with both parallel and seri es hybri d electric \\nvehicle top ologies  [9]. A drive c ycle called West Virginia  \\nUniversity  City Cyc le (WVUCITY ) is tested with the mo del. \\nADAMS and MATLAB/S imulink co-simulation platform is \\ncreated  for a hybrid vehicle model implementation  [10], which \\nare used for control logic  and modeling  of the mechanical \\ninertial components , respectively . Fuel eco nomy c omparison is \\nmade between hybr id and conventional vehicles  using EPA New \\nYork Ci ty Cycle (NYCC ) and Highway Fuel Economy C ycle \\n(HWFET)  with an im proveme nt of 8.9% and 14. 3%, \\nrespectively . A Python -based  vehicle model is applied for an \\nelectric vehic le (EV) Nissan Leaf using  object -oriented \\nprogramming  approac h [11]. The model is done using the  drive \\ncycles which a re Federal Test Procedure ( FTP)-75 and NEDC  \\nand a 70 km real-world drive  is used for verification of the  \\nmodel.', metadata={'source': '20230923_ELECO_Data-Driven-PHEV-Model.pdf', 'page': 0}),\n",
       " Document(page_content='Fig. 1. Block diagra m of the vehicle model \\nOur proposed  data-driven  vehicle model  aims to create \\nrepresentativeness of  a PHEV in various real-world driving \\nconditions.  To that attempt , we used a kine matic  approach \\nwhere th e input v ariables are the speed of the vehicle  in km/h  \\nand the grad e angle of the road  in % . Unlike most of the studies \\nmentioned above, our vehicle model was developed within a \\nPython environment using object -oriented program ming. W e \\nchose to use the Python environment for two main reasons: its \\nobject -oriented capabilities provide a rapid response, a nd it \\noffers powerful frameworks for machine learning projects that \\nwill be the basis of our future work. In particular, our model ca n \\nevaluate 2000 seconds of veh icle data in just 3 -5 seconds. This \\nefficiency surpasses many models in the field, including rule-\\nbased approaches as given by [2].  \\nReal-world maneuvers with urban, rural, and highway \\ncharacteristics were used to create a map -based vehicle model. \\nInstead of constructing a vehicle model that only relies on \\nstandard driving cycles, our aim is to mak e a vehicle model that \\nis built on real -world data and that can represent the state of \\ncharge ( SoC) and fuel consumption behaviors for m ost of the \\ncond itions such as CD and CS behaviors with acceptable \\naccuracy. This approach leads us to the primary contributions of \\nour wor k. The creation of a fast -responding vehicle model \\nwithin the Python environment which can be used in future \\nmachine -learning applica tions.  Also, a vehicle model design \\ncan be adapted easily for different hybrid vehicles with various \\npowertrain architectu res when the wide -ranging operational data \\nof the vehicle is available.   \\nThe rest of the paper is organiz ed as foll ows. In section 2,  the \\nutilize d data for the  modeling  and verification is mentioned. \\nSection 3 explains the vehicle modeling  approach . In secti on 4, \\nenergy management strategy is presented . Section 5  modeling  \\nresults are shown . The conclus ions are pres ented i n section 6.  \\n  \\n2. Input D ata \\n  \\nThe reference ve hicle used for modeling  purposes  was a \\nplug-in hybrid  electric vehi cle with a P2 topol ogy and an ICE \\nwith a 2-liter engine displacement . \\nThe vehicle  measurements driven in various driving \\nconditions were  used for modeling  purposes . During the  trips,  \\nthe chann els were recorded via Controller Area Network  (CAN) \\nbus with a 1 00 ms sampl ing time. In to tal, the amount of driv en \\ndistance  of the vehicle  is 1908 km which consists of  40.8% \\nurban  (0-60 km/h), 16.8% rural  (60-90 km/h) , and 42.8% \\nhighway  (> 90 km/h) distributions.  While the environmental \\ntemp erature in the measur ements  ranges between 6 °C and 3 2°C, \\nthe environme ntal pressure range s from 850  mbar to 1 atm.  \\n 3. Vehicle  Mod elling Approach  \\n  \\nIn the paper , a data-oriented  vehic le model approach is \\npresented. Our main purpose is to obtain a fast-responding  \\nvehicle model w hich can be used in Python environment.  Since \\nthe vehicle model will be used in reinforcement learning -based  \\napplications  in future applications , the duration of  the result \\ngeneration  of the model is desired in seconds.  Using \\nmathematic al modeling  instead of physical modeling  of each \\ncomponent  provides more rapid responses . Therefore, \\nmathematical  equations  and data-driven map genera tion \\ntechniques are combined to get an accu rate vehicl e model in \\nPython.  \\nA block di agram of the vehicle model is demonst rated  in Fig. \\n1. Ther e are two i nputs of the vehicle model which are vehicle \\nspeed in  km/h and road gradient in %. The inp uts are used with \\nvehic le road load coefficie nts to calculate tracti on power . In \\naddition, t he wheel speed  was s imply calculated from the \\nvehicl e speed and tire diameter . While SoC at the previous  step \\nand vehicle speed as well as  acceleration va lues at the curren t', metadata={'source': '20230923_ELECO_Data-Driven-PHEV-Model.pdf', 'page': 1}),\n",
       " Document(page_content='addition, t he wheel speed  was s imply calculated from the \\nvehicl e speed and tire diameter . While SoC at the previous  step \\nand vehicle speed as well as  acceleration va lues at the curren t \\nstep are used in the energy managem ent strategy , the w heel \\nspeed is used in the gear selection algorithm  to obtain the speed  \\nof ICE and EM.  Then, the power di stribution s of ICE and  EM \\nare obtained  using the generated maps from the data . Finally, \\nwhile  ICE power and speed are  used for fuel consumption \\ncalculation  using a fuel consumption map , the EM power and \\nspeed are used for the calculation of  SoC at the next  step using a \\nbattery current map and co ulomb  count ing approach . \\nTraction power is calculated based  on the equation o f motion \\nsuch a s given in ( 1), where  V is vehicle speed in km/h,  F0, F1, F2 \\nare road load coefficients in N, N/(km /h), N/(km/h)2, \\nrespectivel y, m is vehicle mass in kg , α is road  gradi ent in \\ndegrees, wi is inertia  factor,  P is the traction powe r in kW , g is \\nthe gra vity and a is acce leration in m/s2. Equation (1) provides a \\nsimplif ied version of the motion formula, ena bling a rapid and \\neffective solution for our approach to vehicle modeling.  \\n  \\n P = V (F0 + F1.V + F2.V2 + m.g.sinα + m.a.w i )   (1) \\n  \\n4. Energy  Management Str ategy  \\n  \\nThe most critical part of the  vehicle model is e nergy \\nmanagement between ICE and EM . In our  model , this s tep is \\ndivid ed into two sub-steps . The first step is defining hybrid and \\nelectri c mode selection  and the secon d step i s ICE and EM \\npower calcul ation  which will further b e used as the inputs for \\nfuel consumption and remaining SoC calculations . \\n \\n \\nDesired Speed\\nRoad GradientDriving \\nPatternVehicle \\nLoadsWheelWheel Speed\\nTraction PowerGearGear Selection Engine Speed\\nAccelerationEnergy \\nManagementICE Power\\nE-Motor Power\\nBattery \\nCurrent MapBattery SoCFuel ConsumptionSpeed \\nCalculation\\nFuel \\nConsumption \\nMap\\nE-motor \\nSpeed\\ndu/dt', metadata={'source': '20230923_ELECO_Data-Driven-PHEV-Model.pdf', 'page': 1}),\n",
       " Document(page_content='4.1. Mode  Selection Strategy  \\n  \\nFor a mode  selection between electric and hybrid drive , a \\nstochastic  approach was implemented in the vehi cle model . The \\nresidency of th e hybrid and el ectric mode selection can be s een \\nin Fig. 2. Whil e ICE and EM operate  simultaneously in hybrid \\nmode  as three , only the EM operates  in electric mode  which is \\nexpressed as two. The numbers between two and three are the \\navera ge value s of the mode when t he veh icle operates in the \\nspecified  vehicle speed and accel eratio n region . The averag e \\nvalue increases  toward s three  when the vehicle speed and \\nacceleration increase . The frequency  of the  vehicle driven in \\nhybrid mode i ncreases when th e vehicle travels in rural  and \\nhighway maneuvers , which is a n expect ation that the efficiency \\nof the ICE is higher in moderate  engine speed  and to rque ar eas. \\nIn our stochasti c approach,  this observation was used as the \\nbaseline. The whole d ataset is grou ped with res pect to defined \\nSoC regions  from 0 % to 100% with 5 % incremental steps . For \\neach group , the reside ncy of the mode chann el is obtained and \\nthen the values b etween two and t hree are mapped between zero \\nand one to get the probability matrix. Finally,  the map \\ndistribution is a djusted as monoton ically increasing . The \\nprobability matri ces for two sam ple SoC re gions are show n in \\nFig. 3. The closer the value s are to  zero, the more frequent the \\nactivation of the electric mode.  In the f irst e xample , the  SoC \\nregion is selec ted between  25% and 30%.  Since the SoC va lue is \\ncloser to the lower limit , the more frequent hybrid mode \\nactivation especially in rural and highw ay d riving region s is \\nseen.  Contra ry to the first exa mple, the battery and there fore the \\nEM can be used mor e freque ntly in  this case.  That is why , the \\nmap generally expr esses zero values represen ting most ly electric \\nmode activation du ring e nergy management.  Just in rural and \\nhighwa y areas , ICE act ivation can also be seen  when the vehi cle \\ntravels steadily or with positive acceleration.  \\n  \\n4.2. Power Calculation  \\n  \\nAs for the power calculation, three maps were generated and \\nused to define the  necessary power ou tput from EM  and ICE in \\nthe rel evant driving conditio ns. All axes of the maps ar e the \\nsame and  while the x-axis repre sents the vehicle accelerati on \\naxis represent s the traction power with a range  between ±400 \\nkW with 25 kW incre ment and the z -axis represents the ICE  \\npower output in hybrid mode , EM power  output in hybrid mode \\nand EM po wer output in electric mode  in kW.  \\n \\n  \\nFig. 2. Residency of the mode selection in the comple te data \\n      Accordin g to the  selected mo de in the previous step, the \\nnecessary  power outpu ts will be obtained . Finall y, while  fuel \\nconsumption is calculated usin g the fuel co nsumption map of \\nthe vehicle , the remaining SoC is calc ulated using the  battery \\ncurrent map and the co ulomb counting approach . \\n  \\n5. Results  \\n  \\nThe vehicle model was implement ed with the data from  \\nvarious  driving  condition s. Since our modeling  methodology i s \\nbased on map definitions  through the data analytics of th e \\ngeneral veh icle behavio r and not specifica lly done for some \\nselected measurements , the complete data set with a travel \\ndistance of 1908  km is used in this section  instead of dividing  \\nthe measureme nts into modeli ng and testing groups.  In Table 1, \\nthe chara cterist ics o f the driving conditions  for urban, rural , and \\nhighway pro files are shown.  While t he average vehicle sp eeds \\nof CS measurements are 27. 2, 75.7 , and 117.3 km/h , the average \\nvehicle speed s of CD measurements are 27.9, 75.4, and 98.2 \\nkm/h  for urban , rural , and hi ghway profiles resp ectively . \\n(a)\\n(b)\\n-4 1 1 1 1 1 1 1 1 1 1 1 1 1 1 1 1\\n-3.8 1 1 1 1 1 1 1 1 1 1 1 1 1 1 1 1\\n-3.5 1 1 0 0 1 1 1 1 1 1 1 1 1 1 1 1\\n-3.3 0 0 0 0 1 1 1 1 1 1 1 1 1 1 1 1', metadata={'source': '20230923_ELECO_Data-Driven-PHEV-Model.pdf', 'page': 2}),\n",
       " Document(page_content='(a)\\n(b)\\n-4 1 1 1 1 1 1 1 1 1 1 1 1 1 1 1 1\\n-3.8 1 1 1 1 1 1 1 1 1 1 1 1 1 1 1 1\\n-3.5 1 1 0 0 1 1 1 1 1 1 1 1 1 1 1 1\\n-3.3 0 0 0 0 1 1 1 1 1 1 1 1 1 1 1 1\\n-3 0 0 0 0 1 1 1 1 1 1 1 1 1 1 1 1\\n-2.8 0 0 0 0 1 1 1 1 1 1 1 1 1 1 1 1\\n-2.5 0 0 0 0 1 1 1 1 1 1 1 1 1 1 1 1\\n-2.3 0 0 0 0 0 0 1 1 1 1 1 1 1 1 1 1\\n-2 0 0 0.08 0.16 0.16 0.16 1 1 1 1 1 1 1 1 1 1\\n-1.8 0.10 0.08 0.16 0.16 0.18 0.20 0.34 0.34 1 1 1 1 1 1 1 1\\n-1.5 0.18 0.22 0.22 0.21 0.20 0.22 0.34 0.34 1 1 1 1 1 1 1 1\\n-1.3 0.19 0.27 0.22 0.27 0.22 0.24 0.34 0.37 0.37 0.53 1 1 1 1 1 1\\n-1 0.24 0.18 0.11 0.27 0.26 0.27 0.34 0.38 0.42 0.53 0.58 0.62 0.79 1 1 1\\n-0.8 0.16 0.18 0.30 0.28 0.28 0.28 0.35 0.35 0.42 0.55 0.58 0.62 0.79 1 1 1\\n-0.5 0.10 0.20 0.32 0.26 0.26 0.26 0.33 0.35 0.42 0.55 0.58 0.62 0.79 1 1 1\\n-0.3 0.09 0.23 0.20 0.14 0.14 0.14 0.33 0.35 0.46 0.55 0.58 0.62 0.79 1 1 1\\n0 0.09 0.18 0.20 0.21 0.21 0.21 0.33 0.38 0.46 0.55 0.58 0.62 0.79 1 1 1\\n0.25 0.09 0.12 0.30 0.28 0.28 0.28 0.35 0.40 0.47 0.55 0.60 0.64 0.79 1 1 1\\n0.5 0.11 0.20 0.34 0.32 0.32 0.32 0.39 0.40 0.47 0.55 0.60 0.64 0.79 1 1 1\\n0.75 0.15 0.21 0.33 0.39 0.39 0.39 0.46 0.41 0.49 0.57 0.60 0.64 0.79 1 1 1\\n1 0.15 0.14 0.37 0.39 0.41 0.46 0.50 0.46 0.53 0.57 0.60 0.64 1 1 1 1\\n1.25 0.21 0.27 0.42 0.46 0.46 0.46 0.50 0.46 0.53 0.57 1 1 1 1 1 1\\n1.5 0.18 0.27 0.37 0.51 0.51 0.53 0.53 0.53 1 1 1 1 1 1 1 1\\n1.75 0.25 0.30 0.45 0.51 0.53 0.53 0.53 1 1 1 1 1 1 1 1 1\\n2 0.34 0.30 0.34 0.39 0.53 0.53 0.53 1 1 1 1 1 1 1 1 1\\n2.25 0.34 0.30 0.34 0.42 1 1 1 1 1 1 1 1 1 1 1 1\\n2.5 1 0.32 0.34 0.44 1 1 1 1 1 1 1 1 1 1 1 1\\n2.75 1 0.34 0.37 0.44 1 1 1 1 1 1 1 1 1 1 1 1\\n3 1 0.34 0.41 0.56 1 1 1 1 1 1 1 1 1 1 1 1\\n3.25 1 1 0.41 0.56 1 1 1 1 1 1 1 1 1 1 1 1\\n3.5 1 1 1 1 1 1 1 1 1 1 1 1 1 1 1 1\\n3.75 1 1 1 1 1 1 1 1 1 1 1 1 1 1 1 1\\n4 1 1 1 1 1 1 1 1 1 1 1 1 1 1 1 1\\n0 10 20 30 40 50 60 70 80 90 100 110 120 130 140 150\\nVehicle Speed (km/h)Acceleration (m/s2)Mode Selection Probability Matrix\\n25 ≤ State of Charge < 30\\n-4 1 1 1 1 1 1 1 1 1 1 1 1 1 1 1 1\\n-3.8 0 0 0 1 1 1 1 1 1 1 1 1 1 1 1 1\\n-3.5 0 0 0 0 0 1 1 1 1 1 1 1 1 1 1 1\\n-3.3 0 0 0 0 0 1 1 1 1 1 1 1 1 1 1 1\\n-3 0 0 0 0 0 1 1 1 1 1 1 1 1 1 1 1\\n-2.8 0 0 0 0 0 1 1 1 1 1 1 1 1 1 1 1\\n-2.5 0 0 0 0 0 1 1 1 1 1 1 1 1 1 1 1\\n-2.3 0 0 0 0 0 1 1 1 1 1 1 1 1 1 1 1\\n-2 0 0 0 0 0 1 1 1 1 1 1 1 1 1 1 1\\n-1.8 0 0 0 0 0 0 1 1 1 1 1 1 1 1 1 1\\n-1.5 0 0 0 0 0 0 0 0 0 0 0 0 1 1 1 1\\n-1.3 0 0 0 0 0 0 0 0 0 0 0 0 0 1 1 1\\n-1 0 0 0 0 0 0 0 0 0 0 0 0 0 1 1 1\\n-0.8 0 0 0 0 0 0 0 0 0 0 0 0 0 0 1 1\\n-0.5 0 0 0 0 0 0 0 0 0 0 0 0 0 0 1 1\\n-0.3 0 0 0 0 0 0 0 0 0 0 0 0 0.03 0.38 1 1\\n0 0 0 0 0 0 0 0 0 0 0.01 0 0 0.01 0.25 1 1\\n0.25 0 0 0 0 0 0 0 0 0 0.01 0.02 0 0.01 0.34 1 1\\n0.5 0 0 0 0 0 0 0 0 0 0.02 0.12 0.17 0.23 0.90 1 1\\n0.75 0 0 0 0 0 0 0 0 0.02 0.37 0.42 0.56 0.98 1 1 1\\n1 0 0 0 0 0 0 0 0.27 0.51 0.74 0.82 0.86 0.97 1 1 1\\n1.25 0 0 0 0 0 0 0 0.71 0.99 1 1 1 1 1 1 1\\n1.5 0 0 0 0 0 0 1 1 1 1 1 1 1 1 1 1\\n1.75 0 0 0 0 0 0 1 1 1 1 1 1 1 1 1 1\\n2 0 0 0 0 0 0 1 1 1 1 1 1 1 1 1 1\\n2.25 1 1 0 0 1 1 1 1 1 1 1 1 1 1 1 1\\n2.5 1 1 0 0 1 1 1 1 1 1 1 1 1 1 1 1\\n2.75 1 1 1 1 1 1 1 1 1 1 1 1 1 1 1 1\\n3 1 1 1 1 1 1 1 1 1 1 1 1 1 1 1 1\\n3.25 1 1 1 1 1 1 1 1 1 1 1 1 1 1 1 1\\n3.5 1 1 1 1 1 1 1 1 1 1 1 1 1 1 1 1\\n3.75 1 1 1 1 1 1 1 1 1 1 1 1 1 1 1 1\\n4 1 1 1 1 1 1 1 1 1 1 1 1 1 1 1 1\\n0 10 20 30 40 50 60 70 80 90 100 110 120 130 140 150\\nVehicle Speed (km/h)Acceleration (m/s2)Mode Selection Probability Matrix\\n70 ≤ State of Charge < 75\\n \\n  \\nFig. 3. Mode selection probabili ty matri ces for two sample SoC \\nregions, (a) SoC range between  25% and 30% , (b) SoC range \\nbetween 70% and 75', metadata={'source': '20230923_ELECO_Data-Driven-PHEV-Model.pdf', 'page': 2}),\n",
       " Document(page_content='Table  1. Driving conditions of maneuvers  \\n  \\n  CS Measurements  CD Measurements  \\n Travel \\nDistance \\n(km)  Aver age \\nVehicle \\nSpeed \\n(km/h)  Travel \\nDistance \\n(km)  Average \\nVehicle \\nSpeed \\n(km/h)  \\nDriving \\nProfile  Urban 422.6  27.2 348.6 27.9 \\nRural  179.1 75.7 141.5 75.4 \\nHighw ay 557.0  117.3 258.9  98.2 \\n  \\n5.1. CS Mode Behavior  \\n  \\nOverall , 1159 km of vehicle data is used for CS mode \\nbehavio r analysis. As ment ioned in the energy management \\nstrategy sect ion, th e mode selection of the vehicle  depends on \\nthe output of the probabilisti c approach . Theref ore, three distinct \\nseed values  were used to run the vehicle model with the input  \\nsignals to take the randomness into account during the testing of \\nthe model . \\nThe actual average fuel consumption  as we ll as the mod el \\nresults with different  seed values are expressed  in Table 2. The \\nactual average fue l consumption of the vehicle can be se en as \\n7.35 L/1 00km . On the  other hand, the average fuel co nsumption  \\nof the th ree model results is 6.75 L /100km. The deviation \\nbetween the model resu lts and t he actual fuel con sumption  is \\nshown as 8.2%.  \\nAs for the SoC v alidation  of the model, the average deviation \\nbetween the actual  SoC signal and the modeled  SoC signal was \\nconsider ed. For each model run, t he average de viation was \\ncalculated  as 1.83%, 1.96%, and 2.40% respectively . The mean \\nvalue of the  deviation s is 2.06%. In addition to the tabular \\nreprese ntation , a time-based dia gram can be seen for the CS \\nresult comparison  in Fig . 4. For the time-based  repres entation  of \\nthe comparison , one of th e longest traveled measurements  with \\nan average success o f the vehicle mod el on fuel consumption \\nand SoC modelin g is selected . In the sample  measurement, the \\nSoC of t he battery is between 1 0% and 16% for the model and \\nactual result.  \\nElectr ic and h ybrid mode distributio ns as well as fuel \\nconsump tion at the end of t he test ca n be seen in Table 3. It was \\nobserved that  while  the hybrid mode distributi ons form the \\nmajority of the energy managemen t outp ut, the electric mode \\ndistributions represent the minor part of t he mode  selection \\noutput  for both results  because of  the CS behavior  of the test .  \\nThe percentage deviation between the mode distributions is \\n48.9% and 11.1% for e lectric and h ybrid mod es respectively.  \\nSince the amount of  electric  distribution is around 10 % to 15% \\nfor both results, the percentage d eviation  is higher  when \\ncompared to the hybrid mode distribution.   \\n  \\nTable  2. Fuel consumption compari son using  CS maneuvers  \\n  \\n Average Fuel \\nConsumption ( L/100km) \\nActual  Result  7.35 \\nModel  Result #1  6.58 \\nModel  Result #2  6.43 \\nModel  Resu lt #3  7.24 \\nAverage  of 3 Model Result  6.75 \\nDeviation (%)  8.2%  \\n0 250 500 750 1000 1250 1500 1750 2000 2250 2500 2750 3000 3250 3500\\nTime [s]Vehicle Speed [km/h]060120180\\nState of Charge [%]1012141618\\nICE Power [kW]-50050100150EM Power [kW]-100-50050100Fuel Consumption [L]02468\\nTraction Power [kW]-50050100150Drive Mode1.01.52.02.53.0\\nActual\\nModel \\n  \\nFig. 4. Mode l performance comparison on a sample CS \\nmeasu rement \\n  \\nHowever, the deviation does not af fect th e fuel consumpt ion o r \\nSoC tra ce that much as can be s een from Fig. 4. \\nAs for the fue l consumption deviation , the deviation between \\nthe model output and the actua l value is 9.2%. On the other \\nhand, t he average  and maximum absolute So C dev iation s are \\n0.93% and 2.04% , which can also be  seen from Fig. 4. \\n  \\n5.2. CD Mode Behavior  \\n  \\nTo obser ve the CD mode behavio r of the model, it w as tested \\nwith 749 km of vehicle data.  Like it is mentioned in the CS \\nmode behavior se ction , the model run is repea ted three times  to \\nsee the e ffect of the r andomness.  In Tab le 4, the fuel \\nconsum ption r esult s can be seen  which are 4.58 L/100km  and \\n4.50 L/k m for actual and average model re sults. The average', metadata={'source': '20230923_ELECO_Data-Driven-PHEV-Model.pdf', 'page': 3}),\n",
       " Document(page_content='see the e ffect of the r andomness.  In Tab le 4, the fuel \\nconsum ption r esult s can be seen  which are 4.58 L/100km  and \\n4.50 L/k m for actual and average model re sults. The average  \\ndeviation can also b e seen as 9.83%.  Here, i t must be noted that \\nit does not mean the vehic le always travels  in electric mode  by \\nmenti oning CD measurements . Inste ad, the electric mode  \\nfrequency is higher in these measurements  than in the CS \\nmeasurements.  Therefore, the fuel consumption  is lowe r in these \\nresults  but not equal to zero.  For the SoC  comparison , the \\naverage deviation between the model ed SoC and the  actual \\nvalues was considered . \\n  \\nTable  3. Model  and actual result s on the sample CS \\nmeasurement   \\n  \\n Actual  Model  Error (% ) \\nElectric Mode Dis tribution (% ) 17.6 9.0 - 48.9 \\nHybrid  Mode Dis tribution (% ) 76.6 85.1 11.1 \\nFuel Con sumption (L/100k m)  7.83 7.11 - 9.2 \\n \\nTable  4. Fuel consumption compari son using CD maneuvers  \\n  \\n Average Fuel \\nConsump tion ( L/100km) \\nActual  Result  4.58 \\nModel  Result #1  4.13 \\nModel  Result #2  4.24 \\nModel Result #3  5.14 \\nAverage  of 3 Model Result  4.50 \\nDevi ation  (%) 9.83%', metadata={'source': '20230923_ELECO_Data-Driven-PHEV-Model.pdf', 'page': 3}),\n",
       " Document(page_content='0 200 400 600 800 1000 1200 1400 1600 1800 2000 2200 2400 2600 2800 3000 3200\\nTime [s]Vehicle Speed [km/h]060120180\\nState of Charge [%]20406080100\\nICE Power [kW]-50050100150EM Power [kW]-100-50050100Fuel Consumption [L]0.000.250.500.751.00\\nTraction Power [kW]-50050100150Drive Mode1.01.52.02.53.0\\nActual\\nModel \\n \\nFig. 5. Model performa nce comparison on a sample CD \\nmeas urement  \\n \\nFor each model run the average  deviation s are 4.34%, 4.39% , \\nand 4.3 0% where the mean deviat ion is 4.34%. \\nLike in the previous s ection, the model and the actua l test \\nresult compar ison is demonst rated  for one of the  longest  sample  \\nCD measurements  which is expressed  in Fig. 5.  SoC start s at \\n100% at the beginning of the test  and decrease s around 25% for \\nmodel and a ctual result . \\nElectric and hybrid mode  distributions as well as fuel  \\nconsumption  at the end of the test ca n be seen in Table 5. \\nContrary to the CS measurement , the electri c mode a ctivation in \\nthe test is much higher  than expected.  The percentage deviation  \\nbetween the mode distributions can be seen as 7.1% and 58.4% \\nfor electr ic and hy brid modes respect ively.  Since the amount of  \\nhybrid  distribut ion is around 10% to 15% for bot h resu lts, the \\npercentage d eviation  is higher , which does not  affect the fuel \\nconsu mption or SoC tra ce at thi s rate. As for the  fuel \\nconsumption and the S oC traces , the fuel consumption of the \\nvehicle model is 11% higher t han the actual fuel consumption . \\nBesid es, the mean and m aximum SoC de viations are 2.93% and \\n7.98% re spectively. Sin ce th e measurement char acteristic is \\nmore ef fective on the SoC of the b attery, t he mean  and \\nmaxim um deviat ions are higher when compared to the values in \\nthe CS test results.  \\n  \\n6. Conclusions  \\n  \\nIn this st udy, generating a fast-responding  vehicle model  in \\nPython environment was successfully developed . For that \\npurpose, a n objec t-oriented pro gramming str ucture with a data-\\ndriven and map-based modeling  approach  was combined with \\ndata a nalytics  methods  for the interpret ation  of real-world  data. \\nAccordin g to the results , the vehicle model can  evaluate up to \\n7000  seconds of test data within 10-15 se conds. Additi onally , \\nthe model can represent  fuel consumption and  SoC behavior s in \\nurban, rural , and highway driv ing conditions . Although  the \\navera ge fuel consumption and SoC de viations, which are around \\n10% and 5%  respectively,  seem  at hig her le vels when compared \\nto the studies in the litera ture, the main reason and the a dvant age \\nof this study is providing a huge amount of real-world maneuver \\nvalida tion of the model.  As for futu re work, the vehicle model \\nwill be used  in artifici al intellige nce-based predic tive energy \\nmanagement studies . \\n Table  5. Model and actual result s on the sample CD \\nmeasurement   \\n  \\n Actual  Mod el Error (% ) \\nElectric Mode Distrib ution (% ) 84.4 78.4 - 7.1 \\nHybr id Mode Di stribution (% ) 10.1 16.0 58.4 \\nFuel Con sumption (L /100k m)  1.09 1.21 11.0 \\n  \\n7. References  \\n  \\n[1] S. Onori, L. Serra o and G. Rizzoni , \"Hybrid electric \\nvehicles: Energy m anagement st rategies \", Springer, London, \\nEnglan d, 2016 .  \\n[2] R. Cheng  and Z. Dong, \"Modeling and simulation of plug-\\nin hybrid electric powertr ain system for different vehicular \\napplication \", in 2015 IEEE Vehicle Power and Propulsion \\nConference (VPPC) , Mont real, QC, Ca nada, 2015, pp. 1 -7. \\n[3] C. Liu and  Y. Liu, \"Energy management strategy fo r plug-\\nin hybrid electric vehicles based on driving condition \\nrecognition: A Review \", Electronics , vol. 11, no. 3, p p. 342, \\nJan. 2022 . \\n[4] F. Zhang, L. Wang, S. Coskun, H . Pang, Y. C ui, and J. Xi , \\n\"Energy management strategies f or hybrid electric  vehicles:  \\nreview , classification,  compa rison, and outlook\", Energ ies, \\nvol. 13, no. 13, pp. 3352, Jun. 202 0. \\n[5] H. Lee and S. W.  Cha, \"Energ y Management Strategy of', metadata={'source': '20230923_ELECO_Data-Driven-PHEV-Model.pdf', 'page': 4}),\n",
       " Document(page_content='review , classification,  compa rison, and outlook\", Energ ies, \\nvol. 13, no. 13, pp. 3352, Jun. 202 0. \\n[5] H. Lee and S. W.  Cha, \"Energ y Management Strategy of \\nFuel Cell Electric Vehicles Using Model -Based \\nReinforcement L earning With Data -Driven Mode l Update\", \\nIEEE Access, vol. 9, pp. 5924 4-59254, 2021 . \\n[6] H. Sun, Z. Fu, F. Tao, L. Zhu, and P. Si, \"Data -driven \\nreinforcement  learning  based hierarchical energy \\nmanagement strategy for fuel cel l/battery/ul tracapacitor \\nhybrid electric vehicles \", Journal o f Pow er So urces , vol. \\n455, 2020. \\n[7] X. Tang, T. Jia, X. Hu , Y. Hu ang, Z. Deng , and H. Pu , \\n\"Naturalistic data-driven predictive energy management for \\nplug-in hybrid electric vehicles \", IEEE Trans actions on  \\nTransportation Electr ification , vol. 7, no. 2, pp. 497 -508, \\nJun. 2021 . \\n[8] R. D. Robbio, M . C. Cameretti , and E. Mancaruso, \\n\"Investigat ion by modeling  of a plug -in hybrid electr ic \\ncommercial vehicle with d iesel engine on WLTC \", Fuel, \\nvol. 317, Jun. 2022 . \\n[9] A. Saleki,  S. Reza zade, and M. Changizian , \"Analysis and \\nsimulation of hybrid electric vehicles for sedan vehicle \", in \\n2017 Iranian Confere nce on Elect rical Engineering (ICEE) , \\nTehran, Iran, 2017, pp. 141 2-1416 . \\n[10] B. Fan, \"Modeling and Simulation of A Hybrid Elect ric \\nVehicle Using MATLAB/Simulink and ADAMS \", M.S. \\nthesis, Mech. Mechatron. Eng., UW, Ontario , Canada , \\n2007. \\n[11] S. Howroyd and  R. Thring , \"An electric vehicle model and \\nvalidation using a Nissan Leaf: A Python -based object -\\noriented programming approach \", Advances in Mechanical \\nEngineering , vol. 10, no. 7, pp. 1-7, Jan. 2018.', metadata={'source': '20230923_ELECO_Data-Driven-PHEV-Model.pdf', 'page': 4})]"
      ]
     },
     "execution_count": 11,
     "metadata": {},
     "output_type": "execute_result"
    }
   ],
   "source": [
    "# Loading pdf\n",
    "loader = PyPDFLoader(\"docs/20230923_ELECO_Data-Driven-PHEV-Model.pdf\")\n",
    "pages = loader.load_and_split()\n",
    "pages"
   ]
  },
  {
   "cell_type": "code",
   "execution_count": 26,
   "id": "3e9da9ce",
   "metadata": {},
   "outputs": [],
   "source": [
    "# Vector databases from pdf\n",
    "vector_db_openai = DocArrayInMemorySearch.from_documents(pages, embedding=openai_embeddings)\n",
    "vector_db_llama = DocArrayInMemorySearch.from_documents(pages, embedding=llama_embeddings)"
   ]
  },
  {
   "cell_type": "code",
   "execution_count": 27,
   "id": "4ffea48b",
   "metadata": {},
   "outputs": [
    {
     "data": {
      "text/plain": [
       "[Document(page_content='Fig. 1. Block diagra m of the vehicle model \\nOur proposed  data-driven  vehicle model  aims to create \\nrepresentativeness of  a PHEV in various real-world driving \\nconditions.  To that attempt , we used a kine matic  approach \\nwhere th e input v ariables are the speed of the vehicle  in km/h  \\nand the grad e angle of the road  in % . Unlike most of the studies \\nmentioned above, our vehicle model was developed within a \\nPython environment using object -oriented program ming. W e \\nchose to use the Python environment for two main reasons: its \\nobject -oriented capabilities provide a rapid response, a nd it \\noffers powerful frameworks for machine learning projects that \\nwill be the basis of our future work. In particular, our model ca n \\nevaluate 2000 seconds of veh icle data in just 3 -5 seconds. This \\nefficiency surpasses many models in the field, including rule-\\nbased approaches as given by [2].  \\nReal-world maneuvers with urban, rural, and highway \\ncharacteristics were used to create a map -based vehicle model. \\nInstead of constructing a vehicle model that only relies on \\nstandard driving cycles, our aim is to mak e a vehicle model that \\nis built on real -world data and that can represent the state of \\ncharge ( SoC) and fuel consumption behaviors for m ost of the \\ncond itions such as CD and CS behaviors with acceptable \\naccuracy. This approach leads us to the primary contributions of \\nour wor k. The creation of a fast -responding vehicle model \\nwithin the Python environment which can be used in future \\nmachine -learning applica tions.  Also, a vehicle model design \\ncan be adapted easily for different hybrid vehicles with various \\npowertrain architectu res when the wide -ranging operational data \\nof the vehicle is available.   \\nThe rest of the paper is organiz ed as foll ows. In section 2,  the \\nutilize d data for the  modeling  and verification is mentioned. \\nSection 3 explains the vehicle modeling  approach . In secti on 4, \\nenergy management strategy is presented . Section 5  modeling  \\nresults are shown . The conclus ions are pres ented i n section 6.  \\n  \\n2. Input D ata \\n  \\nThe reference ve hicle used for modeling  purposes  was a \\nplug-in hybrid  electric vehi cle with a P2 topol ogy and an ICE \\nwith a 2-liter engine displacement . \\nThe vehicle  measurements driven in various driving \\nconditions were  used for modeling  purposes . During the  trips,  \\nthe chann els were recorded via Controller Area Network  (CAN) \\nbus with a 1 00 ms sampl ing time. In to tal, the amount of driv en \\ndistance  of the vehicle  is 1908 km which consists of  40.8% \\nurban  (0-60 km/h), 16.8% rural  (60-90 km/h) , and 42.8% \\nhighway  (> 90 km/h) distributions.  While the environmental \\ntemp erature in the measur ements  ranges between 6 °C and 3 2°C, \\nthe environme ntal pressure range s from 850  mbar to 1 atm.  \\n 3. Vehicle  Mod elling Approach  \\n  \\nIn the paper , a data-oriented  vehic le model approach is \\npresented. Our main purpose is to obtain a fast-responding  \\nvehicle model w hich can be used in Python environment.  Since \\nthe vehicle model will be used in reinforcement learning -based  \\napplications  in future applications , the duration of  the result \\ngeneration  of the model is desired in seconds.  Using \\nmathematic al modeling  instead of physical modeling  of each \\ncomponent  provides more rapid responses . Therefore, \\nmathematical  equations  and data-driven map genera tion \\ntechniques are combined to get an accu rate vehicl e model in \\nPython.  \\nA block di agram of the vehicle model is demonst rated  in Fig. \\n1. Ther e are two i nputs of the vehicle model which are vehicle \\nspeed in  km/h and road gradient in %. The inp uts are used with \\nvehic le road load coefficie nts to calculate tracti on power . In \\naddition, t he wheel speed  was s imply calculated from the \\nvehicl e speed and tire diameter . While SoC at the previous  step \\nand vehicle speed as well as  acceleration va lues at the curren t', metadata={'source': '20230923_ELECO_Data-Driven-PHEV-Model.pdf', 'page': 1}),\n",
       " Document(page_content=\"Data -Driven  Model ling of a Plug -In Hybrid Electric Vehicle  \\n \\nAdnan Furkan Y ildiz1, Rahman Sahinler1, Cansu Ozturk1 \\n \\n1AVL Research and Engineering  Turkey , Istanbul, Turkey  \\nfurkan. yildiz@avl.com , rahman .sahinler@avl.com , cansu.ozturk@a vl.com  \\n \\nAbstract  \\n  \\nGrowing  need for environmentally friendly  transportation \\nhas led to the rise of hybrid electric vehicles (HEVs).  Plug -in \\nhybrid electric vehicles (PHEVs ), whic h are a sub -class of \\nHEVs , provide lower fuel consumption and exhaust gas \\nemissions thanks to their e xternal charging and higher range \\nof electric drive capabilities . Therefore,  they are  increasingly \\npopular in the automotive i ndustry  nowada ys. To make a  \\nrapid assessment of th e cont rol or the ene rgy management \\nstrate gies applied to a PHEV , the generation of a  vehicle \\nmodel has a crucial  role.  This paper propose s a rapid -\\nresponsive, data -driven, kinematic, and map -based PHEV  \\nmodel  in a Python environment . Approxima tely 2000 km of \\nreal-world vehicle measurements w ere used  instead  of \\ndriving cycles , which enables a wide range of driving \\nmaneuvers to be used  for modeling  and testing purposes . \\nResults  of the v ehicle model were compared in two \\ncategories to express the charge -sustaining  (CS) and charge -\\ndepleting  (CD) behaviors of the mo del. \\n \\n1. Introduction  \\n \\nHybrid electric vehicles  (HEVs ) consist ing of two energy \\nconverte rs, generall y an internal co mbustion engine (ICE) as a \\nprim ary energ y converter and one or mo re electric motor  (EM)  \\nas seconda ry energy co nverters , are nowada ys one of the m ost \\npromising  solution s for not only environmental  pollution but \\nalso fu el eco nomy [1]. Compared to HEVs, plug-in hybrid \\nelectric veh icles (PHEVs) provide lower fuel co nsumptio n and \\nexhaust gas emission  thanks to their external cha rging and \\nhigher ran ge of electric driv e capabili ties [2]. Although there are \\nseveral powertrain topolo gies of PHEVs  in the industry , parallel \\ntype-2 (P2) architecture  is one of  the most used  architectures \\ndue to its increased energy recuperation potential and the \\navailabilit y of additional hybrid cont rol functions . Therefore, a \\nP2-type PHEV is used for modeling  purpo ses in our study . \\nP2 ar chitecture  permits separate or combined  traction from \\nICE and EM based on the driver's  request . Thus,  torque \\ndistribution between ICE and E M is a substa ntial topic and is \\nmostly studied  under  the tit le of  energy m anagement . Energy \\nmanagement strategies in the literature are mainly classified into \\ntwo categories: rule-based  and optimization -based methods . \\nRule -based approaches are class ified into two sub -categories: \\ndeterministic and fuzzy. Optimization -based methods, on t he \\nother hand, are divided into global, real -time, and local \\nstrategies  [3]. Global optimizati on-based methods such as \\ndynamic programming (DP) or the Pontryagin minimi zation \\nprinciple (PMP)  cannot be used in real -time or fa st-respon se \\nrequired applications due to their computational comple xity. \\nHowever, rule -based  methods as well as  real-time and local \\noptimiz ation-based methods namely , equivalent consumption minimizati on strategy (ECMS) , adaptive -ECMS (A-ECMS) , \\nrobust control (RC) , and artificial intelligen ce (AI) based  energ y \\nmanagement strateg ies are useful for real-time or fast-response \\nrequired application s [4]. \\nApart from vehicle models, energy management strateg ies \\nare a lso developed for various type s of vehi cles. For instan ce, an \\nenerg y management str ategy  is developed  for a fuel cell electric \\nvehicle us ing model -based reinforce ment lear ning with data-\\ndriven  model updates  in MATLAB  [5]. In the st udy, they us ed \\ndifferent drive cycles which are  Urba n Dynamo meter Driving \\nSchedule  (UDDS), New European Driv ing Cycle  (NEDC ), \\nSupplemental Federal Test Procedure  (SC03) , WLTC, and\", metadata={'source': '20230923_ELECO_Data-Driven-PHEV-Model.pdf', 'page': 0}),\n",
       " Document(page_content='0 200 400 600 800 1000 1200 1400 1600 1800 2000 2200 2400 2600 2800 3000 3200\\nTime [s]Vehicle Speed [km/h]060120180\\nState of Charge [%]20406080100\\nICE Power [kW]-50050100150EM Power [kW]-100-50050100Fuel Consumption [L]0.000.250.500.751.00\\nTraction Power [kW]-50050100150Drive Mode1.01.52.02.53.0\\nActual\\nModel \\n \\nFig. 5. Model performa nce comparison on a sample CD \\nmeas urement  \\n \\nFor each model run the average  deviation s are 4.34%, 4.39% , \\nand 4.3 0% where the mean deviat ion is 4.34%. \\nLike in the previous s ection, the model and the actua l test \\nresult compar ison is demonst rated  for one of the  longest  sample  \\nCD measurements  which is expressed  in Fig. 5.  SoC start s at \\n100% at the beginning of the test  and decrease s around 25% for \\nmodel and a ctual result . \\nElectric and hybrid mode  distributions as well as fuel  \\nconsumption  at the end of the test ca n be seen in Table 5. \\nContrary to the CS measurement , the electri c mode a ctivation in \\nthe test is much higher  than expected.  The percentage deviation  \\nbetween the mode distributions can be seen as 7.1% and 58.4% \\nfor electr ic and hy brid modes respect ively.  Since the amount of  \\nhybrid  distribut ion is around 10% to 15% for bot h resu lts, the \\npercentage d eviation  is higher , which does not  affect the fuel \\nconsu mption or SoC tra ce at thi s rate. As for the  fuel \\nconsumption and the S oC traces , the fuel consumption of the \\nvehicle model is 11% higher t han the actual fuel consumption . \\nBesid es, the mean and m aximum SoC de viations are 2.93% and \\n7.98% re spectively. Sin ce th e measurement char acteristic is \\nmore ef fective on the SoC of the b attery, t he mean  and \\nmaxim um deviat ions are higher when compared to the values in \\nthe CS test results.  \\n  \\n6. Conclusions  \\n  \\nIn this st udy, generating a fast-responding  vehicle model  in \\nPython environment was successfully developed . For that \\npurpose, a n objec t-oriented pro gramming str ucture with a data-\\ndriven and map-based modeling  approach  was combined with \\ndata a nalytics  methods  for the interpret ation  of real-world  data. \\nAccordin g to the results , the vehicle model can  evaluate up to \\n7000  seconds of test data within 10-15 se conds. Additi onally , \\nthe model can represent  fuel consumption and  SoC behavior s in \\nurban, rural , and highway driv ing conditions . Although  the \\navera ge fuel consumption and SoC de viations, which are around \\n10% and 5%  respectively,  seem  at hig her le vels when compared \\nto the studies in the litera ture, the main reason and the a dvant age \\nof this study is providing a huge amount of real-world maneuver \\nvalida tion of the model.  As for futu re work, the vehicle model \\nwill be used  in artifici al intellige nce-based predic tive energy \\nmanagement studies . \\n Table  5. Model and actual result s on the sample CD \\nmeasurement   \\n  \\n Actual  Mod el Error (% ) \\nElectric Mode Distrib ution (% ) 84.4 78.4 - 7.1 \\nHybr id Mode Di stribution (% ) 10.1 16.0 58.4 \\nFuel Con sumption (L /100k m)  1.09 1.21 11.0 \\n  \\n7. References  \\n  \\n[1] S. Onori, L. Serra o and G. Rizzoni , \"Hybrid electric \\nvehicles: Energy m anagement st rategies \", Springer, London, \\nEnglan d, 2016 .  \\n[2] R. Cheng  and Z. Dong, \"Modeling and simulation of plug-\\nin hybrid electric powertr ain system for different vehicular \\napplication \", in 2015 IEEE Vehicle Power and Propulsion \\nConference (VPPC) , Mont real, QC, Ca nada, 2015, pp. 1 -7. \\n[3] C. Liu and  Y. Liu, \"Energy management strategy fo r plug-\\nin hybrid electric vehicles based on driving condition \\nrecognition: A Review \", Electronics , vol. 11, no. 3, p p. 342, \\nJan. 2022 . \\n[4] F. Zhang, L. Wang, S. Coskun, H . Pang, Y. C ui, and J. Xi , \\n\"Energy management strategies f or hybrid electric  vehicles:  \\nreview , classification,  compa rison, and outlook\", Energ ies, \\nvol. 13, no. 13, pp. 3352, Jun. 202 0. \\n[5] H. Lee and S. W.  Cha, \"Energ y Management Strategy of', metadata={'source': '20230923_ELECO_Data-Driven-PHEV-Model.pdf', 'page': 4}),\n",
       " Document(page_content='review , classification,  compa rison, and outlook\", Energ ies, \\nvol. 13, no. 13, pp. 3352, Jun. 202 0. \\n[5] H. Lee and S. W.  Cha, \"Energ y Management Strategy of \\nFuel Cell Electric Vehicles Using Model -Based \\nReinforcement L earning With Data -Driven Mode l Update\", \\nIEEE Access, vol. 9, pp. 5924 4-59254, 2021 . \\n[6] H. Sun, Z. Fu, F. Tao, L. Zhu, and P. Si, \"Data -driven \\nreinforcement  learning  based hierarchical energy \\nmanagement strategy for fuel cel l/battery/ul tracapacitor \\nhybrid electric vehicles \", Journal o f Pow er So urces , vol. \\n455, 2020. \\n[7] X. Tang, T. Jia, X. Hu , Y. Hu ang, Z. Deng , and H. Pu , \\n\"Naturalistic data-driven predictive energy management for \\nplug-in hybrid electric vehicles \", IEEE Trans actions on  \\nTransportation Electr ification , vol. 7, no. 2, pp. 497 -508, \\nJun. 2021 . \\n[8] R. D. Robbio, M . C. Cameretti , and E. Mancaruso, \\n\"Investigat ion by modeling  of a plug -in hybrid electr ic \\ncommercial vehicle with d iesel engine on WLTC \", Fuel, \\nvol. 317, Jun. 2022 . \\n[9] A. Saleki,  S. Reza zade, and M. Changizian , \"Analysis and \\nsimulation of hybrid electric vehicles for sedan vehicle \", in \\n2017 Iranian Confere nce on Elect rical Engineering (ICEE) , \\nTehran, Iran, 2017, pp. 141 2-1416 . \\n[10] B. Fan, \"Modeling and Simulation of A Hybrid Elect ric \\nVehicle Using MATLAB/Simulink and ADAMS \", M.S. \\nthesis, Mech. Mechatron. Eng., UW, Ontario , Canada , \\n2007. \\n[11] S. Howroyd and  R. Thring , \"An electric vehicle model and \\nvalidation using a Nissan Leaf: A Python -based object -\\noriented programming approach \", Advances in Mechanical \\nEngineering , vol. 10, no. 7, pp. 1-7, Jan. 2018.', metadata={'source': '20230923_ELECO_Data-Driven-PHEV-Model.pdf', 'page': 4})]"
      ]
     },
     "execution_count": 27,
     "metadata": {},
     "output_type": "execute_result"
    }
   ],
   "source": [
    "# Retrieve from the openai vector database based on relation\n",
    "retriever = vector_db_openai.as_retriever()\n",
    "retriever.invoke(\"Python\")"
   ]
  },
  {
   "cell_type": "code",
   "execution_count": 28,
   "id": "5df98b14",
   "metadata": {},
   "outputs": [
    {
     "data": {
      "text/plain": [
       "[Document(page_content='addition, t he wheel speed  was s imply calculated from the \\nvehicl e speed and tire diameter . While SoC at the previous  step \\nand vehicle speed as well as  acceleration va lues at the curren t \\nstep are used in the energy managem ent strategy , the w heel \\nspeed is used in the gear selection algorithm  to obtain the speed  \\nof ICE and EM.  Then, the power di stribution s of ICE and  EM \\nare obtained  using the generated maps from the data . Finally, \\nwhile  ICE power and speed are  used for fuel consumption \\ncalculation  using a fuel consumption map , the EM power and \\nspeed are used for the calculation of  SoC at the next  step using a \\nbattery current map and co ulomb  count ing approach . \\nTraction power is calculated based  on the equation o f motion \\nsuch a s given in ( 1), where  V is vehicle speed in km/h,  F0, F1, F2 \\nare road load coefficients in N, N/(km /h), N/(km/h)2, \\nrespectivel y, m is vehicle mass in kg , α is road  gradi ent in \\ndegrees, wi is inertia  factor,  P is the traction powe r in kW , g is \\nthe gra vity and a is acce leration in m/s2. Equation (1) provides a \\nsimplif ied version of the motion formula, ena bling a rapid and \\neffective solution for our approach to vehicle modeling.  \\n  \\n P = V (F0 + F1.V + F2.V2 + m.g.sinα + m.a.w i )   (1) \\n  \\n4. Energy  Management Str ategy  \\n  \\nThe most critical part of the  vehicle model is e nergy \\nmanagement between ICE and EM . In our  model , this s tep is \\ndivid ed into two sub-steps . The first step is defining hybrid and \\nelectri c mode selection  and the secon d step i s ICE and EM \\npower calcul ation  which will further b e used as the inputs for \\nfuel consumption and remaining SoC calculations . \\n \\n \\nDesired Speed\\nRoad GradientDriving \\nPatternVehicle \\nLoadsWheelWheel Speed\\nTraction PowerGearGear Selection Engine Speed\\nAccelerationEnergy \\nManagementICE Power\\nE-Motor Power\\nBattery \\nCurrent MapBattery SoCFuel ConsumptionSpeed \\nCalculation\\nFuel \\nConsumption \\nMap\\nE-motor \\nSpeed\\ndu/dt', metadata={'source': '20230923_ELECO_Data-Driven-PHEV-Model.pdf', 'page': 1}),\n",
       " Document(page_content='different drive cycles which are  Urba n Dynamo meter Driving \\nSchedule  (UDDS), New European Driv ing Cycle  (NEDC ), \\nSupplemental Federal Test Procedure  (SC03) , WLTC, and \\nHWFET . 5.7%  fuel economy imp rovement is obtain ed on \\naverag e. A reinforcement learning -based  algorithm  using ECMS  \\nis propose d for a fuel cell hybrid electric vehicle (FCHEV)  [6]. \\nThe mo del is proposed in MATLAB environment and up t o \\n26% fuel consu mption imp rovement is obtained  for various \\ndrive cycles suc h as HWFET , WVUCITY , and West Virginia  \\nUniversity Suburban Cycle ( WVUSUB ). A naturalistic data -\\ndriven predictive energy management  is implemented for \\nPHEVs  [7]. Extreme learning machine is used as a short -term \\nspeed predictor i n the paper. The proposed m ethod is compared \\nwith back propagation  neural  network s and support  vector \\nmachine predictors.  Training is done  using seven  standard dri ve \\ncycles such as UDDS, HWFET , etc. \\nThere are several studies i n the literature  menti oning hybrid \\nvehicle modeling  and mostly MATLAB /Simulin k environment \\nis used as th e simul ation platform . For example , Robbio  et al. \\nperformed a hybrid electric commercial vehicle simul ation  for \\nfuel consumption and emission  evaluation  [8]. For the \\nsimulations , Advanced Vehicle Simula tor (ADVISOR) soft ware \\nwas used in the MATLAB en vironm ent. The tests  are carried \\nout with Worldwide  harmonized Light -duty Vehicle  Test Cycles  \\n(WLTC) in CD and CS modes with a success of approximate ly \\n1% dev iation . ADV ISOR software is us ed for the modeling  of a \\nSedan vehicle with both parallel and seri es hybri d electric \\nvehicle top ologies  [9]. A drive c ycle called West Virginia  \\nUniversity  City Cyc le (WVUCITY ) is tested with the mo del. \\nADAMS and MATLAB/S imulink co-simulation platform is \\ncreated  for a hybrid vehicle model implementation  [10], which \\nare used for control logic  and modeling  of the mechanical \\ninertial components , respectively . Fuel eco nomy c omparison is \\nmade between hybr id and conventional vehicles  using EPA New \\nYork Ci ty Cycle (NYCC ) and Highway Fuel Economy C ycle \\n(HWFET)  with an im proveme nt of 8.9% and 14. 3%, \\nrespectively . A Python -based  vehicle model is applied for an \\nelectric vehic le (EV) Nissan Leaf using  object -oriented \\nprogramming  approac h [11]. The model is done using the  drive \\ncycles which a re Federal Test Procedure ( FTP)-75 and NEDC  \\nand a 70 km real-world drive  is used for verification of the  \\nmodel.', metadata={'source': '20230923_ELECO_Data-Driven-PHEV-Model.pdf', 'page': 0}),\n",
       " Document(page_content=\"Data -Driven  Model ling of a Plug -In Hybrid Electric Vehicle  \\n \\nAdnan Furkan Y ildiz1, Rahman Sahinler1, Cansu Ozturk1 \\n \\n1AVL Research and Engineering  Turkey , Istanbul, Turkey  \\nfurkan. yildiz@avl.com , rahman .sahinler@avl.com , cansu.ozturk@a vl.com  \\n \\nAbstract  \\n  \\nGrowing  need for environmentally friendly  transportation \\nhas led to the rise of hybrid electric vehicles (HEVs).  Plug -in \\nhybrid electric vehicles (PHEVs ), whic h are a sub -class of \\nHEVs , provide lower fuel consumption and exhaust gas \\nemissions thanks to their e xternal charging and higher range \\nof electric drive capabilities . Therefore,  they are  increasingly \\npopular in the automotive i ndustry  nowada ys. To make a  \\nrapid assessment of th e cont rol or the ene rgy management \\nstrate gies applied to a PHEV , the generation of a  vehicle \\nmodel has a crucial  role.  This paper propose s a rapid -\\nresponsive, data -driven, kinematic, and map -based PHEV  \\nmodel  in a Python environment . Approxima tely 2000 km of \\nreal-world vehicle measurements w ere used  instead  of \\ndriving cycles , which enables a wide range of driving \\nmaneuvers to be used  for modeling  and testing purposes . \\nResults  of the v ehicle model were compared in two \\ncategories to express the charge -sustaining  (CS) and charge -\\ndepleting  (CD) behaviors of the mo del. \\n \\n1. Introduction  \\n \\nHybrid electric vehicles  (HEVs ) consist ing of two energy \\nconverte rs, generall y an internal co mbustion engine (ICE) as a \\nprim ary energ y converter and one or mo re electric motor  (EM)  \\nas seconda ry energy co nverters , are nowada ys one of the m ost \\npromising  solution s for not only environmental  pollution but \\nalso fu el eco nomy [1]. Compared to HEVs, plug-in hybrid \\nelectric veh icles (PHEVs) provide lower fuel co nsumptio n and \\nexhaust gas emission  thanks to their external cha rging and \\nhigher ran ge of electric driv e capabili ties [2]. Although there are \\nseveral powertrain topolo gies of PHEVs  in the industry , parallel \\ntype-2 (P2) architecture  is one of  the most used  architectures \\ndue to its increased energy recuperation potential and the \\navailabilit y of additional hybrid cont rol functions . Therefore, a \\nP2-type PHEV is used for modeling  purpo ses in our study . \\nP2 ar chitecture  permits separate or combined  traction from \\nICE and EM based on the driver's  request . Thus,  torque \\ndistribution between ICE and E M is a substa ntial topic and is \\nmostly studied  under  the tit le of  energy m anagement . Energy \\nmanagement strategies in the literature are mainly classified into \\ntwo categories: rule-based  and optimization -based methods . \\nRule -based approaches are class ified into two sub -categories: \\ndeterministic and fuzzy. Optimization -based methods, on t he \\nother hand, are divided into global, real -time, and local \\nstrategies  [3]. Global optimizati on-based methods such as \\ndynamic programming (DP) or the Pontryagin minimi zation \\nprinciple (PMP)  cannot be used in real -time or fa st-respon se \\nrequired applications due to their computational comple xity. \\nHowever, rule -based  methods as well as  real-time and local \\noptimiz ation-based methods namely , equivalent consumption minimizati on strategy (ECMS) , adaptive -ECMS (A-ECMS) , \\nrobust control (RC) , and artificial intelligen ce (AI) based  energ y \\nmanagement strateg ies are useful for real-time or fast-response \\nrequired application s [4]. \\nApart from vehicle models, energy management strateg ies \\nare a lso developed for various type s of vehi cles. For instan ce, an \\nenerg y management str ategy  is developed  for a fuel cell electric \\nvehicle us ing model -based reinforce ment lear ning with data-\\ndriven  model updates  in MATLAB  [5]. In the st udy, they us ed \\ndifferent drive cycles which are  Urba n Dynamo meter Driving \\nSchedule  (UDDS), New European Driv ing Cycle  (NEDC ), \\nSupplemental Federal Test Procedure  (SC03) , WLTC, and\", metadata={'source': '20230923_ELECO_Data-Driven-PHEV-Model.pdf', 'page': 0}),\n",
       " Document(page_content='(a)\\n(b)\\n-4 1 1 1 1 1 1 1 1 1 1 1 1 1 1 1 1\\n-3.8 1 1 1 1 1 1 1 1 1 1 1 1 1 1 1 1\\n-3.5 1 1 0 0 1 1 1 1 1 1 1 1 1 1 1 1\\n-3.3 0 0 0 0 1 1 1 1 1 1 1 1 1 1 1 1\\n-3 0 0 0 0 1 1 1 1 1 1 1 1 1 1 1 1\\n-2.8 0 0 0 0 1 1 1 1 1 1 1 1 1 1 1 1\\n-2.5 0 0 0 0 1 1 1 1 1 1 1 1 1 1 1 1\\n-2.3 0 0 0 0 0 0 1 1 1 1 1 1 1 1 1 1\\n-2 0 0 0.08 0.16 0.16 0.16 1 1 1 1 1 1 1 1 1 1\\n-1.8 0.10 0.08 0.16 0.16 0.18 0.20 0.34 0.34 1 1 1 1 1 1 1 1\\n-1.5 0.18 0.22 0.22 0.21 0.20 0.22 0.34 0.34 1 1 1 1 1 1 1 1\\n-1.3 0.19 0.27 0.22 0.27 0.22 0.24 0.34 0.37 0.37 0.53 1 1 1 1 1 1\\n-1 0.24 0.18 0.11 0.27 0.26 0.27 0.34 0.38 0.42 0.53 0.58 0.62 0.79 1 1 1\\n-0.8 0.16 0.18 0.30 0.28 0.28 0.28 0.35 0.35 0.42 0.55 0.58 0.62 0.79 1 1 1\\n-0.5 0.10 0.20 0.32 0.26 0.26 0.26 0.33 0.35 0.42 0.55 0.58 0.62 0.79 1 1 1\\n-0.3 0.09 0.23 0.20 0.14 0.14 0.14 0.33 0.35 0.46 0.55 0.58 0.62 0.79 1 1 1\\n0 0.09 0.18 0.20 0.21 0.21 0.21 0.33 0.38 0.46 0.55 0.58 0.62 0.79 1 1 1\\n0.25 0.09 0.12 0.30 0.28 0.28 0.28 0.35 0.40 0.47 0.55 0.60 0.64 0.79 1 1 1\\n0.5 0.11 0.20 0.34 0.32 0.32 0.32 0.39 0.40 0.47 0.55 0.60 0.64 0.79 1 1 1\\n0.75 0.15 0.21 0.33 0.39 0.39 0.39 0.46 0.41 0.49 0.57 0.60 0.64 0.79 1 1 1\\n1 0.15 0.14 0.37 0.39 0.41 0.46 0.50 0.46 0.53 0.57 0.60 0.64 1 1 1 1\\n1.25 0.21 0.27 0.42 0.46 0.46 0.46 0.50 0.46 0.53 0.57 1 1 1 1 1 1\\n1.5 0.18 0.27 0.37 0.51 0.51 0.53 0.53 0.53 1 1 1 1 1 1 1 1\\n1.75 0.25 0.30 0.45 0.51 0.53 0.53 0.53 1 1 1 1 1 1 1 1 1\\n2 0.34 0.30 0.34 0.39 0.53 0.53 0.53 1 1 1 1 1 1 1 1 1\\n2.25 0.34 0.30 0.34 0.42 1 1 1 1 1 1 1 1 1 1 1 1\\n2.5 1 0.32 0.34 0.44 1 1 1 1 1 1 1 1 1 1 1 1\\n2.75 1 0.34 0.37 0.44 1 1 1 1 1 1 1 1 1 1 1 1\\n3 1 0.34 0.41 0.56 1 1 1 1 1 1 1 1 1 1 1 1\\n3.25 1 1 0.41 0.56 1 1 1 1 1 1 1 1 1 1 1 1\\n3.5 1 1 1 1 1 1 1 1 1 1 1 1 1 1 1 1\\n3.75 1 1 1 1 1 1 1 1 1 1 1 1 1 1 1 1\\n4 1 1 1 1 1 1 1 1 1 1 1 1 1 1 1 1\\n0 10 20 30 40 50 60 70 80 90 100 110 120 130 140 150\\nVehicle Speed (km/h)Acceleration (m/s2)Mode Selection Probability Matrix\\n25 ≤ State of Charge < 30\\n-4 1 1 1 1 1 1 1 1 1 1 1 1 1 1 1 1\\n-3.8 0 0 0 1 1 1 1 1 1 1 1 1 1 1 1 1\\n-3.5 0 0 0 0 0 1 1 1 1 1 1 1 1 1 1 1\\n-3.3 0 0 0 0 0 1 1 1 1 1 1 1 1 1 1 1\\n-3 0 0 0 0 0 1 1 1 1 1 1 1 1 1 1 1\\n-2.8 0 0 0 0 0 1 1 1 1 1 1 1 1 1 1 1\\n-2.5 0 0 0 0 0 1 1 1 1 1 1 1 1 1 1 1\\n-2.3 0 0 0 0 0 1 1 1 1 1 1 1 1 1 1 1\\n-2 0 0 0 0 0 1 1 1 1 1 1 1 1 1 1 1\\n-1.8 0 0 0 0 0 0 1 1 1 1 1 1 1 1 1 1\\n-1.5 0 0 0 0 0 0 0 0 0 0 0 0 1 1 1 1\\n-1.3 0 0 0 0 0 0 0 0 0 0 0 0 0 1 1 1\\n-1 0 0 0 0 0 0 0 0 0 0 0 0 0 1 1 1\\n-0.8 0 0 0 0 0 0 0 0 0 0 0 0 0 0 1 1\\n-0.5 0 0 0 0 0 0 0 0 0 0 0 0 0 0 1 1\\n-0.3 0 0 0 0 0 0 0 0 0 0 0 0 0.03 0.38 1 1\\n0 0 0 0 0 0 0 0 0 0 0.01 0 0 0.01 0.25 1 1\\n0.25 0 0 0 0 0 0 0 0 0 0.01 0.02 0 0.01 0.34 1 1\\n0.5 0 0 0 0 0 0 0 0 0 0.02 0.12 0.17 0.23 0.90 1 1\\n0.75 0 0 0 0 0 0 0 0 0.02 0.37 0.42 0.56 0.98 1 1 1\\n1 0 0 0 0 0 0 0 0.27 0.51 0.74 0.82 0.86 0.97 1 1 1\\n1.25 0 0 0 0 0 0 0 0.71 0.99 1 1 1 1 1 1 1\\n1.5 0 0 0 0 0 0 1 1 1 1 1 1 1 1 1 1\\n1.75 0 0 0 0 0 0 1 1 1 1 1 1 1 1 1 1\\n2 0 0 0 0 0 0 1 1 1 1 1 1 1 1 1 1\\n2.25 1 1 0 0 1 1 1 1 1 1 1 1 1 1 1 1\\n2.5 1 1 0 0 1 1 1 1 1 1 1 1 1 1 1 1\\n2.75 1 1 1 1 1 1 1 1 1 1 1 1 1 1 1 1\\n3 1 1 1 1 1 1 1 1 1 1 1 1 1 1 1 1\\n3.25 1 1 1 1 1 1 1 1 1 1 1 1 1 1 1 1\\n3.5 1 1 1 1 1 1 1 1 1 1 1 1 1 1 1 1\\n3.75 1 1 1 1 1 1 1 1 1 1 1 1 1 1 1 1\\n4 1 1 1 1 1 1 1 1 1 1 1 1 1 1 1 1\\n0 10 20 30 40 50 60 70 80 90 100 110 120 130 140 150\\nVehicle Speed (km/h)Acceleration (m/s2)Mode Selection Probability Matrix\\n70 ≤ State of Charge < 75\\n \\n  \\nFig. 3. Mode selection probabili ty matri ces for two sample SoC \\nregions, (a) SoC range between  25% and 30% , (b) SoC range \\nbetween 70% and 75', metadata={'source': '20230923_ELECO_Data-Driven-PHEV-Model.pdf', 'page': 2})]"
      ]
     },
     "execution_count": 28,
     "metadata": {},
     "output_type": "execute_result"
    }
   ],
   "source": [
    "# Retrieve from the openai vector database based on relation\n",
    "retriever = vector_db_llama.as_retriever()\n",
    "retriever.invoke(\"Python\")"
   ]
  },
  {
   "cell_type": "code",
   "execution_count": 31,
   "id": "078b17bc",
   "metadata": {},
   "outputs": [],
   "source": [
    "# Let's create a chain to retrieve the document based on the query\n",
    "context_question_dict = {\n",
    "    \"context\": itemgetter(\"question\") | retriever,\n",
    "    \"question\": itemgetter(\"question\")\n",
    "}\n",
    "\n",
    "openai_chain = context_question_dict | prompt | openai_model | parser\n",
    "llama_chain = context_question_dict | prompt | llama_model | parser"
   ]
  },
  {
   "cell_type": "code",
   "execution_count": 32,
   "id": "9ffd7537",
   "metadata": {},
   "outputs": [],
   "source": [
    "# Questions\n",
    "questions = [\n",
    "    \"Who are the authors of the paper?\",\n",
    "    \"What is the main contribution of the paper?\",\n",
    "    \"What is the main cotribution of Python?\",\n",
    "    \"What is the modeling strategy used in the paper?\",\n",
    "    \"What is the future work?\"\n",
    "]"
   ]
  },
  {
   "cell_type": "code",
   "execution_count": 33,
   "id": "a3fd2021",
   "metadata": {},
   "outputs": [
    {
     "name": "stdout",
     "output_type": "stream",
     "text": [
      "Question: Who are the authors of the paper?\n",
      "Answer: H. Lee and S. W. Cha.\n",
      "Question: What is the main contribution of the paper?\n",
      "Answer: The main contribution of the paper is the creation of a fast-responding vehicle model within the Python environment that can be used in future machine-learning applications.\n",
      "Question: What is the main cotribution of Python?\n",
      "Answer: The main contribution of Python is generating a fast-responding vehicle model in a Python environment successfully developed.\n",
      "Question: What is the modeling strategy used in the paper?\n",
      "Answer: The modeling strategy used in the paper is a data-oriented vehicle model approach.\n",
      "Question: What is the future work?\n",
      "Answer: The future work involves using powerful frameworks for machine learning projects to enhance the efficiency of the model.\n"
     ]
    }
   ],
   "source": [
    "# Answering the questions with openai model\n",
    "for question in questions:\n",
    "    print(f\"Question: {question}\")\n",
    "    print(f\"Answer: {openai_chain.invoke({'question': question})}\")"
   ]
  },
  {
   "cell_type": "code",
   "execution_count": 34,
   "id": "8981cf04",
   "metadata": {},
   "outputs": [
    {
     "name": "stdout",
     "output_type": "stream",
     "text": [
      "Question: Who are the authors of the paper?\n",
      "Answer: The authors of the paper are:\n",
      "\n",
      "1. S. Onori\n",
      "2. L. Serrao\n",
      "3. G. Rizzoni\n",
      "Question: What is the main contribution of the paper?\n",
      "Answer: The main contribution of the paper is the development of a data-driven vehicle model for plug-in hybrid electric vehicles (PHEVs) using real-world driving data. The proposed model is designed to be fast-responding and can represent the state of charge (SoC) and fuel consumption behaviors in various driving conditions, including city driving (CD), suburban driving (SD), and highway driving (HD). Unlike traditional modeling approaches that rely on standard driving cycles, the authors' approach uses real-world data to create a map-based vehicle model that can adapt easily for different hybrid vehicles with various powertrain architectures when wide-ranging operational data of the vehicle is available. The paper also presents a novel energy management strategy and shows the modeling results in section 5, demonstrating the effectiveness of the proposed approach.\n",
      "Question: What is the main cotribution of Python?\n",
      "Answer: The main contribution of Python in this study is its ability to handle complex data analysis and machine learning tasks. The authors used a data-driven and map-based modeling approach in Python to develop a fast-responding vehicle model that can evaluate up to 7000 seconds of test data within 10-15 seconds. This approach allows for the creation of a detailed model of the vehicle's energy consumption and SoC behavior, which can be used for predictive energy management studies in artificial intelligence.\n",
      "\n",
      "Python's object-oriented programming structure, along with its extensive libraries and tools, made it an ideal choice for this study. The use of Python allowed the authors to quickly develop and validate the model, as well as perform complex data analysis and machine learning tasks. Additionally, Python's ease of use and flexibility made it possible to integrate the model with other tools and systems, such as data analytics software, which is important for this type of study.\n",
      "\n",
      "Overall, Python played a crucial role in the development and validation of the vehicle model, and its ability to handle complex data analysis and machine learning tasks made it an ideal choice for this study.\n",
      "Question: What is the modeling strategy used in the paper?\n",
      "Answer: The modeling strategy used in the paper is a data-oriented vehicle model approach, which combines mathematical equations and data-driven map generation techniques to create a fast-responding vehicle model within the Python environment. The authors aim to obtain a vehicle model that can represent the state of charge (SoC) and fuel consumption behaviors for most driving conditions, including city driving (CD), suburban driving (SD), and highway driving (HS).\n",
      "\n",
      "To achieve this, the authors used real-world maneuvers with urban, rural, and highway characteristics to create a map-based vehicle model. Instead of constructing a vehicle model that only relies on standard driving cycles, the authors aimed to make a vehicle model that is built on real-world data and can represent the state of charge (SoC) and fuel consumption behaviors for most driving conditions with acceptable accuracy.\n",
      "\n",
      "The proposed vehicle model consists of two inputs: vehicle speed in km/h and road gradient in%. These inputs are used with vehicle road load coefficients to calculate tractive power. In addition, the wheel speed was simply calculated from the vehicle speed and tire diameter. The SoC at the previous step and vehicle speed, as well as acceleration values at the current step, are also considered in the modeling process.\n",
      "\n",
      "The authors explain that by combining mathematical equations and data-driven map generation techniques, they were able to create a fast-responding vehicle model that can be used in Python environment. The approach allows for easy adaptation of the model for different hybrid vehicles with various powertrain architectures when wide-ranging operational data of the vehicle is available.\n",
      "Question: What is the future work?\n",
      "Answer: Based on the paper, the future work for the data-driven PHEV model includes:\n",
      "\n",
      "1. Adaptation of the vehicle model to different hybrid vehicles with various powertrain architectures. This can be done by using the wide-ranging operational data of the vehicle, which will provide acceptable accuracy in representing the state of charge (SoC) and fuel consumption behaviors for most driving conditions, including CD and CS behaviors.\n",
      "2. Machine learning applications: The proposed vehicle model can be used as a basis for future machine-learning applications, such as optimizing energy management strategies or predicting SoC and fuel consumption patterns based on real-time data from the vehicle.\n",
      "3. Expansion of the map-based vehicle model to include more driving cycles and scenarios: While the current paper focuses on urban, rural, and highway driving conditions, the model can be expanded to cover other types of driving such as stop-and-go traffic or hilly terrain.\n",
      "4. Improvement of the model's accuracy through further refinements of the data-driven map generation technique: As more data becomes available, the model can be fine-tuned to provide even better predictions of SoC and fuel consumption patterns.\n",
      "5. Integration with other systems: The proposed vehicle model can be integrated with other systems such as traffic management or autonomous driving systems, providing real-time data for optimizing energy management strategies or predicting traffic flow patterns.\n"
     ]
    }
   ],
   "source": [
    "# Answering the questions with llama model\n",
    "for question in questions:\n",
    "    print(f\"Question: {question}\")\n",
    "    print(f\"Answer: {llama_chain.invoke({'question': question})}\")"
   ]
  },
  {
   "cell_type": "markdown",
   "id": "e6403220",
   "metadata": {},
   "source": [
    "## Results\n",
    "\n",
    "Time: Required time was really high to generate one response from the local model.\n",
    "Answer accuracy: Answers was considerably accurate. Both models understand the concept of the works but extracting direct information was inaccurate. (At least they should give my name within the writers :D)"
   ]
  }
 ],
 "metadata": {
  "kernelspec": {
   "display_name": ".venv",
   "language": "python",
   "name": "python3"
  },
  "language_info": {
   "codemirror_mode": {
    "name": "ipython",
    "version": 3
   },
   "file_extension": ".py",
   "mimetype": "text/x-python",
   "name": "python",
   "nbconvert_exporter": "python",
   "pygments_lexer": "ipython3",
   "version": "3.10.12"
  }
 },
 "nbformat": 4,
 "nbformat_minor": 5
}
